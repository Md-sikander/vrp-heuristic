{
  "nbformat": 4,
  "nbformat_minor": 0,
  "metadata": {
    "colab": {
      "name": "k_means_clustering_capacitated_vehicle_routing.ipynb",
      "provenance": []
    },
    "kernelspec": {
      "name": "python3",
      "display_name": "Python 3"
    },
    "language_info": {
      "name": "python"
    }
  },
  "cells": [
    {
      "cell_type": "markdown",
      "metadata": {
        "id": "BmE_aYLcAOhC"
      },
      "source": [
        "# **FOR 32 CITIES**"
      ]
    },
    {
      "cell_type": "code",
      "metadata": {
        "id": "EjBEH71pGzJs"
      },
      "source": [
        "# capacitated vehicle routing for k means clustering algorithm\n",
        "import numpy as np\n",
        "import pandas as pd\n",
        "# np.random.seed(1)\n",
        "from numpy import loadtxt\n",
        "from operator import itemgetter"
      ],
      "execution_count": 133,
      "outputs": []
    },
    {
      "cell_type": "code",
      "metadata": {
        "colab": {
          "base_uri": "https://localhost:8080/"
        },
        "id": "_jL4wnc_H5r7",
        "outputId": "e458341c-7b89-4b82-b3b4-cedab9b762ca"
      },
      "source": [
        "# for using different data set\n",
        "# file1 = np.loadtxt(\"/content/21 customers data sert.txt\")\n",
        "# print(file1)\n",
        "file1 = np.loadtxt(\"/content/33 demand and location.txt\")\n",
        "print(file1)"
      ],
      "execution_count": 134,
      "outputs": [
        {
          "output_type": "stream",
          "text": [
            "[[1.00e+00 2.92e+02 4.95e+02 0.00e+00]\n",
            " [2.00e+00 2.98e+02 4.27e+02 7.00e+02]\n",
            " [3.00e+00 3.09e+02 4.45e+02 4.00e+02]\n",
            " [4.00e+00 3.07e+02 4.64e+02 4.00e+02]\n",
            " [5.00e+00 3.36e+02 4.75e+02 1.20e+03]\n",
            " [6.00e+00 3.20e+02 4.39e+02 4.00e+01]\n",
            " [7.00e+00 3.21e+02 4.37e+02 8.00e+01]\n",
            " [8.00e+00 3.22e+02 4.37e+02 2.00e+03]\n",
            " [9.00e+00 3.23e+02 4.33e+02 9.00e+02]\n",
            " [1.00e+01 3.24e+02 4.33e+02 6.00e+02]\n",
            " [1.10e+01 3.23e+02 4.29e+02 7.50e+02]\n",
            " [1.20e+01 3.14e+02 4.35e+02 1.50e+03]\n",
            " [1.30e+01 3.11e+02 4.42e+02 1.50e+02]\n",
            " [1.40e+01 3.04e+02 4.27e+02 2.50e+02]\n",
            " [1.50e+01 2.93e+02 4.21e+02 1.60e+03]\n",
            " [1.60e+01 2.96e+02 4.18e+02 4.50e+02]\n",
            " [1.70e+01 2.61e+02 3.84e+02 7.00e+02]\n",
            " [1.80e+01 2.97e+02 4.10e+02 5.50e+02]\n",
            " [1.90e+01 3.15e+02 4.07e+02 6.50e+02]\n",
            " [2.00e+01 3.14e+02 4.06e+02 2.00e+02]\n",
            " [2.10e+01 3.21e+02 3.91e+02 4.00e+02]\n",
            " [2.20e+01 3.21e+02 3.98e+02 3.00e+02]\n",
            " [2.30e+01 3.14e+02 3.94e+02 1.30e+03]\n",
            " [2.40e+01 3.13e+02 3.78e+02 7.00e+02]\n",
            " [2.50e+01 3.04e+02 3.82e+02 7.50e+02]\n",
            " [2.60e+01 2.95e+02 4.02e+02 1.40e+03]\n",
            " [2.70e+01 2.83e+02 4.06e+02 4.00e+03]\n",
            " [2.80e+01 2.79e+02 3.99e+02 6.00e+02]\n",
            " [2.90e+01 2.71e+02 4.01e+02 1.00e+03]\n",
            " [3.00e+01 2.64e+02 4.14e+02 5.00e+02]\n",
            " [3.10e+01 2.77e+02 4.39e+02 2.50e+03]\n",
            " [3.20e+01 2.90e+02 4.34e+02 1.70e+03]\n",
            " [3.30e+01 3.19e+02 4.33e+02 1.10e+03]]\n"
          ],
          "name": "stdout"
        }
      ]
    },
    {
      "cell_type": "markdown",
      "metadata": {
        "id": "torve7d3PvkQ"
      },
      "source": [
        "# VISUAL INSPECTION OF THE CUSTOMERS"
      ]
    },
    {
      "cell_type": "code",
      "metadata": {
        "id": "FIqg1uTDQMiC"
      },
      "source": [
        "y_coordinate=[file1[i][1] for i in range(len(file1))]\n",
        "x_coordinate=[file1[i][2] for i in range(len(file1))]"
      ],
      "execution_count": 135,
      "outputs": []
    },
    {
      "cell_type": "code",
      "metadata": {
        "id": "PHDGvsDgP0dU",
        "colab": {
          "base_uri": "https://localhost:8080/",
          "height": 286
        },
        "outputId": "e0a26d1e-0076-4f7d-8fc9-48e284b9c685"
      },
      "source": [
        "import matplotlib.pyplot as plt\n",
        "plt.scatter(y_coordinate,x_coordinate)"
      ],
      "execution_count": 136,
      "outputs": [
        {
          "output_type": "execute_result",
          "data": {
            "text/plain": [
              "<matplotlib.collections.PathCollection at 0x7fb648c6bc10>"
            ]
          },
          "metadata": {
            "tags": []
          },
          "execution_count": 136
        },
        {
          "output_type": "display_data",
          "data": {
            "image/png": "[encoded data removed]",
            "text/plain": [
              "<Figure size 432x288 with 1 Axes>"
            ]
          },
          "metadata": {
            "tags": [],
            "needs_background": "light"
          }
        }
      ]
    },
    {
      "cell_type": "markdown",
      "metadata": {
        "id": "todQCvEEKJjh"
      },
      "source": [
        "$ \\textbf{total no of clusters = (total demand/capacity of each truck}) $"
      ]
    },
    {
      "cell_type": "code",
      "metadata": {
        "colab": {
          "base_uri": "https://localhost:8080/"
        },
        "id": "cACdvRLoLAUa",
        "outputId": "383ee04e-90be-4841-a2f9-4e93d247a64c"
      },
      "source": [
        "sum=0\n",
        "for i in range(len(file1)):\n",
        "  sum=sum+file1[i][3]\n",
        "print(sum)\n",
        "cp=8000"
      ],
      "execution_count": 137,
      "outputs": [
        {
          "output_type": "stream",
          "text": [
            "29370.0\n"
          ],
          "name": "stdout"
        }
      ]
    },
    {
      "cell_type": "code",
      "metadata": {
        "id": "6XI0gwytIXtA"
      },
      "source": [
        "\n",
        "n_clusters=int(np.ceil(sum/cp))  # taking the ceiling value\n",
        "centroid=[]  # here is the list specifying the centroids\n",
        "# code to select the initial centroid this can be done based on the demands\n",
        "d_sorted= sorted(file1, key=itemgetter(3),reverse=True)\n",
        "for i in range(n_clusters):\n",
        "  centroid.append(d_sorted[i][1:3])"
      ],
      "execution_count": 138,
      "outputs": []
    },
    {
      "cell_type": "code",
      "metadata": {
        "colab": {
          "base_uri": "https://localhost:8080/"
        },
        "id": "9ugrshp0R7el",
        "outputId": "7d5e8434-e358-49bc-8fc3-16a70b07e5d6"
      },
      "source": [
        "centroid"
      ],
      "execution_count": 139,
      "outputs": [
        {
          "output_type": "execute_result",
          "data": {
            "text/plain": [
              "[array([283., 406.]),\n",
              " array([277., 439.]),\n",
              " array([322., 437.]),\n",
              " array([290., 434.])]"
            ]
          },
          "metadata": {
            "tags": []
          },
          "execution_count": 139
        }
      ]
    },
    {
      "cell_type": "markdown",
      "metadata": {
        "id": "Wdc5xqJn-gmy"
      },
      "source": [
        "forming a matrix known as the EuclidianDistance which stores the distance of all points from each of the centroid"
      ]
    },
    {
      "cell_type": "code",
      "metadata": {
        "id": "tX77v1eLCN2G"
      },
      "source": [
        "def cluster_formation():\n",
        "  EuclideanDistance=[]\n",
        "  for i in range(n_clusters):\n",
        "    a_1=[]\n",
        "    for j in range(len(file1)):\n",
        "      distance=((file1[j][1]-centroid[i][0])**2+(file1[j][2]-centroid[i][1])**2)**0.5\n",
        "      a_1.append(distance)\n",
        "    EuclideanDistance.append(a_1)\n",
        "  EuclideanDistance=pd.DataFrame(EuclideanDistance)\n",
        "  min_distance_centroid=EuclideanDistance.idxmin()\n",
        "  min_distance_centroid=np.array(min_distance_centroid)\n",
        "  min_distance_centroid\n",
        "  t=[]\n",
        "  cl=[]\n",
        "  for k in range(len(file1)):\n",
        "      a=[]\n",
        "      b=[]\n",
        "      c=[]\n",
        "      d=[]\n",
        "      t.append([k,min_distance_centroid[k]])\n",
        "  for k in range(len(file1)):\n",
        "      if t[k][1]==0:\n",
        "        a.append(t[k][0])\n",
        "      elif t[k][1]==1:\n",
        "        b.append(t[k][0])\n",
        "      elif t[k][1]==2:\n",
        "        c.append(t[k][0])\n",
        "      else :\n",
        "        d.append(t[k][0])\n",
        "  cl.append(a)\n",
        "  cl.append(b)\n",
        "  cl.append(c)\n",
        "  cl.append(d)\n",
        "  centroid_n=[]\n",
        "  for j in cl:\n",
        "    r_x=0\n",
        "    r_y=0\n",
        "    for i in j:\n",
        "      r_x=r_x+file1[i][1]\n",
        "      r_y=r_y+file1[i][2]\n",
        "    a_0=((r_x/len(j)),(r_y/len(j)))\n",
        "    centroid_n.append(a_0)\n",
        "  # print(centroid_n)\n",
        "  return centroid_n,cl"
      ],
      "execution_count": 140,
      "outputs": []
    },
    {
      "cell_type": "code",
      "metadata": {
        "id": "M6D1VKnCH2Dw"
      },
      "source": [
        "#checking for whether the given cluster is possible or\n",
        "def func(a):\n",
        "  sum_d=0\n",
        "  for i in range(len(a)):\n",
        "    sum_d=sum_d+file1[a[i]][3]\n",
        "  return sum_d"
      ],
      "execution_count": 141,
      "outputs": []
    },
    {
      "cell_type": "code",
      "metadata": {
        "id": "ubgcFhNJJ8iq"
      },
      "source": [
        "# centroid_final= cluster_formation()\n",
        "# print(centroid_final)\n",
        "# # centroid.clear()\n",
        "# # for y in range(len(centroid_final)):\n",
        "# #   centroid.append(centroid_final[y])"
      ],
      "execution_count": 142,
      "outputs": []
    },
    {
      "cell_type": "code",
      "metadata": {
        "colab": {
          "base_uri": "https://localhost:8080/"
        },
        "id": "t1As5QaLGGrx",
        "outputId": "f158329f-0ddc-4065-bcff-cf943bc1ec65"
      },
      "source": [
        "for i in range(len(centroid)):\n",
        "  centroid_final,cl_final=cluster_formation()\n",
        "  centroid.clear()\n",
        "  for y in range(len(centroid_final)):\n",
        "    centroid.append(centroid_final[y])\n",
        "  print(centroid)"
      ],
      "execution_count": 143,
      "outputs": [
        {
          "output_type": "stream",
          "text": [
            "[(295.15384615384613, 397.3076923076923), (284.5, 467.0), (318.7692307692308, 439.15384615384613), (296.2, 425.4)]\n",
            "[(299.0769230769231, 396.7692307692308), (299.5, 479.5), (320.1818181818182, 439.8181818181818), (288.85714285714283, 425.7142857142857)]\n",
            "[(299.0769230769231, 396.7692307692308), (311.6666666666667, 478.0), (318.6, 436.3), (288.85714285714283, 425.7142857142857)]\n",
            "[(299.0769230769231, 396.7692307692308), (311.6666666666667, 478.0), (318.6, 436.3), (288.85714285714283, 425.7142857142857)]\n"
          ],
          "name": "stdout"
        }
      ]
    },
    {
      "cell_type": "code",
      "metadata": {
        "colab": {
          "base_uri": "https://localhost:8080/",
          "height": 430
        },
        "id": "H5U3L-f5SMrc",
        "outputId": "647d12cb-8fdf-41f5-c62d-794376cc2209"
      },
      "source": [
        "import matplotlib.pyplot as plt\n",
        "from matplotlib.pyplot import figure\n",
        "figure(figsize=(15,7))\n",
        "plt.scatter([file1[r][1] for r in cl_final[0]],[file1[e][2] for e in cl_final[0]])\n",
        "plt.scatter([file1[r][1] for r in cl_final[1]],[file1[e][2] for e in cl_final[1]])\n",
        "plt.scatter([file1[r][1] for r in cl_final[2]],[file1[e][2] for e in cl_final[2]])\n",
        "plt.scatter([file1[r][1] for r in cl_final[3]],[file1[e][2] for e in cl_final[3]])\n",
        "for i in range(len(centroid)):\n",
        "  plt.scatter(centroid[i][0],centroid[i][1],s=300)\n",
        "plt.legend(['cluster1','cluster2','cluster3','cluster4','centroid1','centroid2','centroid3','centroid4'])\n",
        "plt.show()"
      ],
      "execution_count": 144,
      "outputs": [
        {
          "output_type": "display_data",
          "data": {
            "image/png": "[encoded data removed]",
            "text/plain": [
              "<Figure size 1080x504 with 1 Axes>"
            ]
          },
          "metadata": {
            "tags": [],
            "needs_background": "light"
          }
        }
      ]
    },
    {
      "cell_type": "code",
      "metadata": {
        "colab": {
          "base_uri": "https://localhost:8080/"
        },
        "id": "JzR-d2Uu8KGV",
        "outputId": "d0950acb-aafc-48fe-cc79-687948f563cd"
      },
      "source": [
        "for i in range(len(cl_final)):\n",
        "  print(cl_final[i])"
      ],
      "execution_count": 145,
      "outputs": [
        {
          "output_type": "stream",
          "text": [
            "[16, 17, 18, 19, 20, 21, 22, 23, 24, 25, 26, 27, 28]\n",
            "[0, 3, 4]\n",
            "[2, 5, 6, 7, 8, 9, 10, 11, 12, 32]\n",
            "[1, 13, 14, 15, 29, 30, 31]\n"
          ],
          "name": "stdout"
        }
      ]
    },
    {
      "cell_type": "code",
      "metadata": {
        "id": "Xi97jMaxQ9Dn"
      },
      "source": [
        "def capacity_requirement(cl_final, cp):\n",
        "  for i in range(len(cl_final)-1):\n",
        "    # while func(cl_final[i])>6000:\n",
        "    if func(cl_final[i])<=cp:\n",
        "      # print('cluster',cl_final[i],'is the',i,'cluster')\n",
        "      None\n",
        "    else :\n",
        "      j=0\n",
        "      while func(cl_final[i])>cp:\n",
        "        # print(i,j)\n",
        "        a=cl_final[i][j]\n",
        "        cl_final[i].remove(a)\n",
        "        cl_final[i+1].append(a)\n",
        "        # print(a)\n",
        "        # print(func(cl_final[i]))\n",
        "        a=0\n",
        "      # print('cluster',cl_final[i],'is the',i,'cluster')\n",
        "  if func(cl_final[len(cl_final)-1])<=cp:\n",
        "      # print('cluster',cl_final[len(cl_final)-1],'is the',(len(cl_final)-1),'cluster')\n",
        "      None\n",
        "  else:\n",
        "    j=0\n",
        "    while func(cl_final[len(cl_final)-1])>cp:\n",
        "      a=cl_final[len(cl_final)-1][j]\n",
        "      cl_final[len(cl_final)-1].remove(a)\n",
        "      cl_final[0].append(a)\n",
        "      a=0\n",
        "    # print('cluster',cl_final[len(cl_final)-1],'is the',(len(cl_final)-1),'cluster')\n",
        "    print(cl_final)\n",
        "  return cl_final"
      ],
      "execution_count": 146,
      "outputs": []
    },
    {
      "cell_type": "code",
      "metadata": {
        "id": "GVZ-6e5KJDOI"
      },
      "source": [
        "cl_final_m=capacity_requirement(cl_final,cp)"
      ],
      "execution_count": 147,
      "outputs": []
    },
    {
      "cell_type": "code",
      "metadata": {
        "colab": {
          "base_uri": "https://localhost:8080/"
        },
        "id": "0AOt-lJ3Tp4_",
        "outputId": "33f7fce1-54f6-4764-890b-b8bb9a894e2e"
      },
      "source": [
        "cl_final_m"
      ],
      "execution_count": 148,
      "outputs": [
        {
          "output_type": "execute_result",
          "data": {
            "text/plain": [
              "[[24, 25, 26, 27, 28],\n",
              " [0, 3, 4, 16, 17, 18, 19, 20, 21, 22, 23],\n",
              " [2, 5, 6, 7, 8, 9, 10, 11, 12, 32],\n",
              " [1, 13, 14, 15, 29, 30, 31]]"
            ]
          },
          "metadata": {
            "tags": []
          },
          "execution_count": 148
        }
      ]
    },
    {
      "cell_type": "code",
      "metadata": {
        "id": "qtDwXKE6IL83"
      },
      "source": [
        "while func(cl_final_m[0])>cp:\n",
        "  cl_final=capacity_requirement(cl_final,cp)"
      ],
      "execution_count": 149,
      "outputs": []
    },
    {
      "cell_type": "code",
      "metadata": {
        "colab": {
          "base_uri": "https://localhost:8080/"
        },
        "id": "gSR8wygxTr5A",
        "outputId": "dc5c91c4-37fa-4d16-e50a-ee4e37272101"
      },
      "source": [
        "cl_final"
      ],
      "execution_count": 150,
      "outputs": [
        {
          "output_type": "execute_result",
          "data": {
            "text/plain": [
              "[[24, 25, 26, 27, 28],\n",
              " [0, 3, 4, 16, 17, 18, 19, 20, 21, 22, 23],\n",
              " [2, 5, 6, 7, 8, 9, 10, 11, 12, 32],\n",
              " [1, 13, 14, 15, 29, 30, 31]]"
            ]
          },
          "metadata": {
            "tags": []
          },
          "execution_count": 150
        }
      ]
    },
    {
      "cell_type": "code",
      "metadata": {
        "colab": {
          "base_uri": "https://localhost:8080/",
          "height": 430
        },
        "id": "2jkSsnvLKe6L",
        "outputId": "2088ab08-dce2-436b-9168-cca71c5aa435"
      },
      "source": [
        "import matplotlib.pyplot as plt\n",
        "from matplotlib.pyplot import figure\n",
        "figure(figsize=(15,7))\n",
        "plt.scatter([file1[r][1] for r in cl_final_m[0]],[file1[e][2] for e in cl_final_m[0]])\n",
        "plt.scatter([file1[r][1] for r in cl_final_m[1]],[file1[e][2] for e in cl_final_m[1]])\n",
        "plt.scatter([file1[r][1] for r in cl_final_m[2]],[file1[e][2] for e in cl_final_m[2]])\n",
        "plt.scatter([file1[r][1] for r in cl_final_m[3]],[file1[e][2] for e in cl_final_m[3]])\n",
        "for i in range(len(centroid)):\n",
        "  plt.scatter(centroid[i][0],centroid[i][1],s=300)\n",
        "plt.legend(['cluster1','cluster2','cluster3','cluster4','centroid1','centroid2','centroid3','centroid4'])\n",
        "plt.show()"
      ],
      "execution_count": 151,
      "outputs": [
        {
          "output_type": "display_data",
          "data": {
            "image/png": "[encoded data removed]",
            "text/plain": [
              "<Figure size 1080x504 with 1 Axes>"
            ]
          },
          "metadata": {
            "tags": [],
            "needs_background": "light"
          }
        }
      ]
    },
    {
      "cell_type": "markdown",
      "metadata": {
        "id": "PKyFqgIFSKux"
      },
      "source": [
        "removing the facility from the clusters"
      ]
    },
    {
      "cell_type": "code",
      "metadata": {
        "id": "mg0qoSFqSPZj"
      },
      "source": [
        "for i in range(len(cl_final_m)):\n",
        "  for j in range(len(cl_final_m[i])):\n",
        "    if cl_final_m[i][j]==0:\n",
        "      cl_final_m[i].remove(cl_final_m[i][j])\n",
        "      break"
      ],
      "execution_count": 152,
      "outputs": []
    },
    {
      "cell_type": "code",
      "metadata": {
        "colab": {
          "base_uri": "https://localhost:8080/"
        },
        "id": "5t8V5124UNbK",
        "outputId": "2c7d2bf2-5a0e-4541-9669-0896bbde1bd5"
      },
      "source": [
        "cl_final_m"
      ],
      "execution_count": 153,
      "outputs": [
        {
          "output_type": "execute_result",
          "data": {
            "text/plain": [
              "[[24, 25, 26, 27, 28],\n",
              " [3, 4, 16, 17, 18, 19, 20, 21, 22, 23],\n",
              " [2, 5, 6, 7, 8, 9, 10, 11, 12, 32],\n",
              " [1, 13, 14, 15, 29, 30, 31]]"
            ]
          },
          "metadata": {
            "tags": []
          },
          "execution_count": 153
        }
      ]
    },
    {
      "cell_type": "code",
      "metadata": {
        "colab": {
          "base_uri": "https://localhost:8080/"
        },
        "id": "JRAsHHJ0PqdZ",
        "outputId": "b6f66e7e-20d9-4e95-baa9-ca6d7b805100"
      },
      "source": [
        "pip install python-tsp"
      ],
      "execution_count": 154,
      "outputs": [
        {
          "output_type": "stream",
          "text": [
            "Requirement already satisfied: python-tsp in /usr/local/lib/python3.7/dist-packages (0.2.1)\n",
            "Requirement already satisfied: tsplib95<0.8.0,>=0.7.1 in /usr/local/lib/python3.7/dist-packages (from python-tsp) (0.7.1)\n",
            "Requirement already satisfied: numpy<2.0.0,>=1.18.5 in /usr/local/lib/python3.7/dist-packages (from python-tsp) (1.19.5)\n",
            "Requirement already satisfied: networkx~=2.1 in /usr/local/lib/python3.7/dist-packages (from tsplib95<0.8.0,>=0.7.1->python-tsp) (2.6.2)\n",
            "Requirement already satisfied: tabulate~=0.8.7 in /usr/local/lib/python3.7/dist-packages (from tsplib95<0.8.0,>=0.7.1->python-tsp) (0.8.9)\n",
            "Requirement already satisfied: Deprecated~=1.2.9 in /usr/local/lib/python3.7/dist-packages (from tsplib95<0.8.0,>=0.7.1->python-tsp) (1.2.12)\n",
            "Requirement already satisfied: Click>=6.0 in /usr/local/lib/python3.7/dist-packages (from tsplib95<0.8.0,>=0.7.1->python-tsp) (7.1.2)\n",
            "Requirement already satisfied: wrapt<2,>=1.10 in /usr/local/lib/python3.7/dist-packages (from Deprecated~=1.2.9->tsplib95<0.8.0,>=0.7.1->python-tsp) (1.12.1)\n"
          ],
          "name": "stdout"
        }
      ]
    },
    {
      "cell_type": "code",
      "metadata": {
        "id": "MsnYfxjb6Q8A"
      },
      "source": [
        "for i in range(len(cl_final_m)):\n",
        "  cl_final_m[i][0]=0"
      ],
      "execution_count": 155,
      "outputs": []
    },
    {
      "cell_type": "code",
      "metadata": {
        "colab": {
          "base_uri": "https://localhost:8080/"
        },
        "id": "W0nnTAgb6blJ",
        "outputId": "ae80ca78-d376-490c-e3cf-260abf9b0f46"
      },
      "source": [
        "cl_final_m"
      ],
      "execution_count": 156,
      "outputs": [
        {
          "output_type": "execute_result",
          "data": {
            "text/plain": [
              "[[0, 25, 26, 27, 28],\n",
              " [0, 4, 16, 17, 18, 19, 20, 21, 22, 23],\n",
              " [0, 5, 6, 7, 8, 9, 10, 11, 12, 32],\n",
              " [0, 13, 14, 15, 29, 30, 31]]"
            ]
          },
          "metadata": {
            "tags": []
          },
          "execution_count": 156
        }
      ]
    },
    {
      "cell_type": "code",
      "metadata": {
        "id": "ILOOrMJBNBZl"
      },
      "source": [
        "# developing the distance matrix func\n",
        "def distance_matrix(cluster):\n",
        "  print(cluster)\n",
        "  distance=[]\n",
        "  for i in range(len(cluster)):\n",
        "    a=[]\n",
        "    for j in range(len(cluster)):\n",
        "      a.append(np.sqrt((file1[cluster[i]][1]-file1[cluster[j]][1])**2+ (file1[cluster[i]][2]-file1[cluster[j]][2])**2))\n",
        "    distance.append(a)\n",
        "  distance=np.array(distance)\n",
        "  return distance"
      ],
      "execution_count": 157,
      "outputs": []
    },
    {
      "cell_type": "code",
      "metadata": {
        "colab": {
          "base_uri": "https://localhost:8080/"
        },
        "id": "PkTP5Bd90aGn",
        "outputId": "2a522662-f72d-4bac-b337-8e608ea60d3c"
      },
      "source": [
        "from python_tsp.exact import solve_tsp_dynamic_programming\n",
        "sum_optimal=0\n",
        "permuatation_list=[]\n",
        "for i in range(len(cl_final_m)):\n",
        "  permutation, distance= solve_tsp_dynamic_programming(distance_matrix(cl_final_m[i]))\n",
        "  print(distance)\n",
        "  permuatation_list.append(permutation)\n",
        "  sum_optimal=sum_optimal+distance\n",
        "print('optimal cost using k means capacitated clustering',sum_optimal)"
      ],
      "execution_count": 158,
      "outputs": [
        {
          "output_type": "stream",
          "text": [
            "[0, 25, 26, 27, 28]\n",
            "218.32313850006034\n",
            "[0, 4, 16, 17, 18, 19, 20, 21, 22, 23]\n",
            "344.0914970770543\n",
            "[0, 5, 6, 7, 8, 9, 10, 11, 12, 32]\n",
            "150.05272780225698\n",
            "[0, 13, 14, 15, 29, 30, 31]\n",
            "208.95449473718494\n",
            "optimal cost using k means capacitated clustering 921.4218581165567\n"
          ],
          "name": "stdout"
        }
      ]
    },
    {
      "cell_type": "markdown",
      "metadata": {
        "id": "KKejnPFI-rUs"
      },
      "source": [
        "$$ \\textbf{MEAN ABSOLUTE PERCENTAGE ERROR} $$"
      ]
    },
    {
      "cell_type": "code",
      "metadata": {
        "colab": {
          "base_uri": "https://localhost:8080/"
        },
        "id": "W8gzG9wF4i73",
        "outputId": "0be4b6c3-025c-4fea-96a4-a8019011b788"
      },
      "source": [
        "optimal_value_33=835\n",
        "percentage_error=(np.absolute(optimal_value_33-sum_optimal)/optimal_value_33)*100\n",
        "print('mean_absolute_percentage_error_32',percentage_error)"
      ],
      "execution_count": 159,
      "outputs": [
        {
          "output_type": "stream",
          "text": [
            "mean_absolute_percentage_error_32 10.349923127731339\n"
          ],
          "name": "stdout"
        }
      ]
    },
    {
      "cell_type": "markdown",
      "metadata": {
        "id": "WV054bc9_8zE"
      },
      "source": [
        "$$ \\textbf{MEAN ABSOLUTE PERCENTAGE ERROR FOR 32 CITIES : 10.35%} $$"
      ]
    },
    {
      "cell_type": "markdown",
      "metadata": {
        "id": "NKL2bXfGEOQU"
      },
      "source": [
        "# **FOR 21 CITIES**"
      ]
    },
    {
      "cell_type": "code",
      "metadata": {
        "colab": {
          "base_uri": "https://localhost:8080/"
        },
        "id": "wSzUU2JtAYBA",
        "outputId": "92a23f92-7d84-46d1-9471-d352ed8f44c7"
      },
      "source": [
        "file2 = np.loadtxt(\"/content/21 customers data sert.txt\")\n",
        "print(file2)"
      ],
      "execution_count": 160,
      "outputs": [
        {
          "output_type": "stream",
          "text": [
            "[[1.00e+00 1.45e+02 2.15e+02 0.00e+00]\n",
            " [2.00e+00 1.51e+02 2.64e+02 1.10e+03]\n",
            " [3.00e+00 1.59e+02 2.61e+02 7.00e+02]\n",
            " [4.00e+00 1.30e+02 2.54e+02 8.00e+02]\n",
            " [5.00e+00 1.28e+02 2.52e+02 1.40e+03]\n",
            " [6.00e+00 1.63e+02 2.47e+02 2.10e+03]\n",
            " [7.00e+00 1.46e+02 2.46e+02 4.00e+02]\n",
            " [8.00e+00 1.61e+02 2.42e+02 8.00e+02]\n",
            " [9.00e+00 1.42e+02 2.39e+02 1.00e+02]\n",
            " [1.00e+01 1.63e+02 2.36e+02 5.00e+02]\n",
            " [1.10e+01 1.48e+02 2.32e+02 6.00e+02]\n",
            " [1.20e+01 1.28e+02 2.31e+02 1.20e+03]\n",
            " [1.30e+01 1.56e+02 2.17e+02 1.30e+03]\n",
            " [1.40e+01 1.29e+02 2.14e+02 1.30e+03]\n",
            " [1.50e+01 1.46e+02 2.08e+02 3.00e+02]\n",
            " [1.60e+01 1.64e+02 2.08e+02 9.00e+02]\n",
            " [1.70e+01 1.41e+02 2.06e+02 2.10e+03]\n",
            " [1.80e+01 1.47e+02 1.93e+02 1.00e+03]\n",
            " [1.90e+01 1.64e+02 1.93e+02 9.00e+02]\n",
            " [2.00e+01 1.29e+02 1.89e+02 2.50e+03]\n",
            " [2.10e+01 1.55e+02 1.85e+02 1.80e+03]\n",
            " [2.20e+01 1.39e+02 1.82e+02 7.00e+02]]\n"
          ],
          "name": "stdout"
        }
      ]
    },
    {
      "cell_type": "code",
      "metadata": {
        "colab": {
          "base_uri": "https://localhost:8080/"
        },
        "id": "AUgYCEjX_s5q",
        "outputId": "d1b957c7-c40a-4abc-dddc-2f518946bec4"
      },
      "source": [
        "sum=0\n",
        "for i in range(len(file2)):\n",
        "  sum=sum+file2[i][3]\n",
        "print(sum)\n",
        "cp=6000"
      ],
      "execution_count": 161,
      "outputs": [
        {
          "output_type": "stream",
          "text": [
            "22500.0\n"
          ],
          "name": "stdout"
        }
      ]
    },
    {
      "cell_type": "code",
      "metadata": {
        "id": "ubskaKhpBMdn"
      },
      "source": [
        "n_clusters=int(np.ceil(sum/cp))  # taking the ceiling value\n",
        "centroid=[]  # here is the list specifying the centroids\n",
        "# code to select the initial centroid this can be done based on the demands\n",
        "d_sorted= sorted(file2, key=itemgetter(3),reverse=True)\n",
        "for i in range(n_clusters):\n",
        "  centroid.append(d_sorted[i][1:3])"
      ],
      "execution_count": 162,
      "outputs": []
    },
    {
      "cell_type": "code",
      "metadata": {
        "colab": {
          "base_uri": "https://localhost:8080/"
        },
        "id": "SSQi7lL3BZPp",
        "outputId": "0240dcb0-1de1-47ff-b7ec-0111dfc36fd4"
      },
      "source": [
        "centroid"
      ],
      "execution_count": 163,
      "outputs": [
        {
          "output_type": "execute_result",
          "data": {
            "text/plain": [
              "[array([129., 189.]),\n",
              " array([163., 247.]),\n",
              " array([141., 206.]),\n",
              " array([155., 185.])]"
            ]
          },
          "metadata": {
            "tags": []
          },
          "execution_count": 163
        }
      ]
    },
    {
      "cell_type": "code",
      "metadata": {
        "id": "QusqE1ZMBgRQ"
      },
      "source": [
        "def cluster_formation():\n",
        "  EuclideanDistance=[]\n",
        "  for i in range(n_clusters):\n",
        "    a_1=[]\n",
        "    for j in range(len(file2)):\n",
        "      distance=((file2[j][1]-centroid[i][0])**2+(file2[j][2]-centroid[i][1])**2)**0.5\n",
        "      a_1.append(distance)\n",
        "    EuclideanDistance.append(a_1)\n",
        "  EuclideanDistance=pd.DataFrame(EuclideanDistance)\n",
        "  min_distance_centroid=EuclideanDistance.idxmin()\n",
        "  min_distance_centroid=np.array(min_distance_centroid)\n",
        "  min_distance_centroid\n",
        "  t=[]\n",
        "  cl=[]\n",
        "  for k in range(len(file2)):\n",
        "      a=[]\n",
        "      b=[]\n",
        "      c=[]\n",
        "      d=[]\n",
        "      t.append([k,min_distance_centroid[k]])\n",
        "  for k in range(len(file2)):\n",
        "      if t[k][1]==0:\n",
        "        a.append(t[k][0])\n",
        "      elif t[k][1]==1:\n",
        "        b.append(t[k][0])\n",
        "      elif t[k][1]==2:\n",
        "        c.append(t[k][0])\n",
        "      else :\n",
        "        d.append(t[k][0])\n",
        "  cl.append(a)\n",
        "  cl.append(b)\n",
        "  cl.append(c)\n",
        "  cl.append(d)\n",
        "  centroid_n=[]\n",
        "  for j in cl:\n",
        "    r_x=0\n",
        "    r_y=0\n",
        "    for i in j:\n",
        "      r_x=r_x+file2[i][1]\n",
        "      r_y=r_y+file2[i][2]\n",
        "    a_0=((r_x/len(j)),(r_y/len(j)))\n",
        "    centroid_n.append(a_0)\n",
        "  # print(centroid_n)\n",
        "  return centroid_n,cl"
      ],
      "execution_count": 164,
      "outputs": []
    },
    {
      "cell_type": "code",
      "metadata": {
        "id": "9H5nMELoBrs4"
      },
      "source": [
        "#checking for whether the given cluster is possible or\n",
        "def func(a):\n",
        "  sum_d=0\n",
        "  for i in range(len(a)):\n",
        "    sum_d=sum_d+file2[a[i]][3]\n",
        "  return sum_d"
      ],
      "execution_count": 165,
      "outputs": []
    },
    {
      "cell_type": "code",
      "metadata": {
        "colab": {
          "base_uri": "https://localhost:8080/"
        },
        "id": "Z97x2pNCByHC",
        "outputId": "40df9cfb-a9a9-4980-f529-9f6cfb3f7f6d"
      },
      "source": [
        "for i in range(len(centroid)):\n",
        "  centroid_final,cl_final=cluster_formation()\n",
        "  centroid.clear()\n",
        "  for y in range(len(centroid_final)):\n",
        "    centroid.append(centroid_final[y])\n",
        "  print(centroid)"
      ],
      "execution_count": 166,
      "outputs": [
        {
          "output_type": "stream",
          "text": [
            "[(134.0, 185.5), (149.1, 247.3), (144.14285714285714, 214.14285714285714), (155.33333333333334, 190.33333333333334)]\n",
            "[(134.0, 185.5), (149.1, 247.3), (140.83333333333334, 215.16666666666666), (157.5, 194.75)]\n",
            "[(134.0, 185.5), (149.1, 247.3), (140.83333333333334, 215.16666666666666), (157.5, 194.75)]\n",
            "[(134.0, 185.5), (149.1, 247.3), (140.83333333333334, 215.16666666666666), (157.5, 194.75)]\n"
          ],
          "name": "stdout"
        }
      ]
    },
    {
      "cell_type": "code",
      "metadata": {
        "colab": {
          "base_uri": "https://localhost:8080/",
          "height": 428
        },
        "id": "-2UfnH_uCEto",
        "outputId": "c2d1204d-8832-482e-9cdc-f50059710bea"
      },
      "source": [
        "import matplotlib.pyplot as plt\n",
        "from matplotlib.pyplot import figure\n",
        "figure(figsize=(15,7))\n",
        "plt.scatter([file2[r][1] for r in cl_final[0]],[file2[e][2] for e in cl_final[0]])\n",
        "plt.scatter([file2[r][1] for r in cl_final[1]],[file2[e][2] for e in cl_final[1]])\n",
        "plt.scatter([file2[r][1] for r in cl_final[2]],[file2[e][2] for e in cl_final[2]])\n",
        "plt.scatter([file2[r][1] for r in cl_final[3]],[file2[e][2] for e in cl_final[3]])\n",
        "for i in range(len(centroid)):\n",
        "  plt.scatter(centroid[i][0],centroid[i][1],s=300)\n",
        "plt.legend(['cluster1','cluster2','cluster3','cluster4'])\n",
        "plt.show()"
      ],
      "execution_count": 167,
      "outputs": [
        {
          "output_type": "display_data",
          "data": {
            "image/png": "[encoded data removed]",
            "text/plain": [
              "<Figure size 1080x504 with 1 Axes>"
            ]
          },
          "metadata": {
            "tags": [],
            "needs_background": "light"
          }
        }
      ]
    },
    {
      "cell_type": "code",
      "metadata": {
        "colab": {
          "base_uri": "https://localhost:8080/"
        },
        "id": "DBzUg8ZdCQqs",
        "outputId": "15d53ccb-281e-44f3-f95b-b83c5861a483"
      },
      "source": [
        "for i in range(len(cl_final)):\n",
        "  print(cl_final[i])"
      ],
      "execution_count": 168,
      "outputs": [
        {
          "output_type": "stream",
          "text": [
            "[19, 21]\n",
            "[1, 2, 3, 4, 5, 6, 7, 8, 9, 10]\n",
            "[0, 11, 12, 13, 14, 16]\n",
            "[15, 17, 18, 20]\n"
          ],
          "name": "stdout"
        }
      ]
    },
    {
      "cell_type": "code",
      "metadata": {
        "id": "j0AEHSmmCVGp"
      },
      "source": [
        "def capacity_requirement(cl_final, cp):\n",
        "  for i in range(len(cl_final)-1):\n",
        "    # while func(cl_final[i])>6000:\n",
        "    if func(cl_final[i])<=cp:\n",
        "      # print('cluster',cl_final[i],'is the',i,'cluster')\n",
        "      None\n",
        "    else :\n",
        "      j=0\n",
        "      while func(cl_final[i])>cp:\n",
        "        # print(i,j)\n",
        "        a=cl_final[i][j]\n",
        "        cl_final[i].remove(a)\n",
        "        cl_final[i+1].append(a)\n",
        "        # print(a)\n",
        "        # print(func(cl_final[i]))\n",
        "        a=0\n",
        "      # print('cluster',cl_final[i],'is the',i,'cluster')\n",
        "  if func(cl_final[len(cl_final)-1])<=cp:\n",
        "      # print('cluster',cl_final[len(cl_final)-1],'is the',(len(cl_final)-1),'cluster')\n",
        "      None\n",
        "  else:\n",
        "    j=0\n",
        "    while func(cl_final[len(cl_final)-1])>cp:\n",
        "      a=cl_final[len(cl_final)-1][j]\n",
        "      cl_final[len(cl_final)-1].remove(a)\n",
        "      cl_final[0].append(a)\n",
        "      a=0\n",
        "    # print('cluster',cl_final[len(cl_final)-1],'is the',(len(cl_final)-1),'cluster')\n",
        "    print(cl_final)\n",
        "  return cl_final"
      ],
      "execution_count": 169,
      "outputs": []
    },
    {
      "cell_type": "code",
      "metadata": {
        "colab": {
          "base_uri": "https://localhost:8080/"
        },
        "id": "Q9Id6002CgXw",
        "outputId": "af09cae8-3a79-4d26-baaa-339f7f56fc37"
      },
      "source": [
        "cl_final_m=capacity_requirement(cl_final,cp)"
      ],
      "execution_count": 170,
      "outputs": [
        {
          "output_type": "stream",
          "text": [
            "[[19, 21, 15, 17, 18], [4, 5, 6, 7, 8, 9, 10], [14, 16, 1, 2, 3], [20, 0, 11, 12, 13]]\n"
          ],
          "name": "stdout"
        }
      ]
    },
    {
      "cell_type": "code",
      "metadata": {
        "id": "fItFzdK9CkOn"
      },
      "source": [
        "while func(cl_final_m[0])>cp:\n",
        "  cl_final=capacity_requirement(cl_final,cp)"
      ],
      "execution_count": 171,
      "outputs": []
    },
    {
      "cell_type": "code",
      "metadata": {
        "colab": {
          "base_uri": "https://localhost:8080/",
          "height": 428
        },
        "id": "B44UJ6MSCvvC",
        "outputId": "f8dd8fbc-7c8e-4bec-8bc3-c55a96c78e68"
      },
      "source": [
        "import matplotlib.pyplot as plt\n",
        "from matplotlib.pyplot import figure\n",
        "figure(figsize=(15,7))\n",
        "plt.scatter([file2[r][1] for r in cl_final_m[0]],[file2[e][2] for e in cl_final_m[0]])\n",
        "plt.scatter([file2[r][1] for r in cl_final_m[1]],[file2[e][2] for e in cl_final_m[1]])\n",
        "plt.scatter([file2[r][1] for r in cl_final_m[2]],[file2[e][2] for e in cl_final_m[2]])\n",
        "plt.scatter([file2[r][1] for r in cl_final_m[3]],[file2[e][2] for e in cl_final_m[3]])\n",
        "for i in range(len(centroid)):\n",
        "  plt.scatter(centroid[i][0],centroid[i][1],s=300)\n",
        "plt.legend(['cluster1','cluster2','cluster3','cluster4','centroid1','centroid2','centroid3','centroid4'])\n",
        "plt.show()"
      ],
      "execution_count": 172,
      "outputs": [
        {
          "output_type": "display_data",
          "data": {
            "image/png": "[encoded data removed]",
            "text/plain": [
              "<Figure size 1080x504 with 1 Axes>"
            ]
          },
          "metadata": {
            "tags": [],
            "needs_background": "light"
          }
        }
      ]
    },
    {
      "cell_type": "code",
      "metadata": {
        "id": "0FSjY8npC575"
      },
      "source": [
        "for i in range(len(cl_final_m)):\n",
        "  for j in range(len(cl_final_m[i])):\n",
        "    if cl_final_m[i][j]==0:\n",
        "      cl_final_m[i].remove(cl_final_m[i][j])\n",
        "      break"
      ],
      "execution_count": 173,
      "outputs": []
    },
    {
      "cell_type": "code",
      "metadata": {
        "id": "YTNCPaoZDFaf"
      },
      "source": [
        "for i in range(len(cl_final_m)):\n",
        "  cl_final_m[i][0]=0"
      ],
      "execution_count": 174,
      "outputs": []
    },
    {
      "cell_type": "code",
      "metadata": {
        "colab": {
          "base_uri": "https://localhost:8080/"
        },
        "id": "a3F5eG0hDPl5",
        "outputId": "fefd7c3a-ef13-4d04-a8c1-19160c1b8efb"
      },
      "source": [
        "cl_final_m"
      ],
      "execution_count": 175,
      "outputs": [
        {
          "output_type": "execute_result",
          "data": {
            "text/plain": [
              "[[0, 21, 15, 17, 18],\n",
              " [0, 5, 6, 7, 8, 9, 10],\n",
              " [0, 16, 1, 2, 3],\n",
              " [0, 11, 12, 13]]"
            ]
          },
          "metadata": {
            "tags": []
          },
          "execution_count": 175
        }
      ]
    },
    {
      "cell_type": "code",
      "metadata": {
        "id": "_jgsycHQDQ4R"
      },
      "source": [
        "# developing the distance matrix func\n",
        "def distance_matrix(cluster):\n",
        "  print(cluster)\n",
        "  distance=[]\n",
        "  for i in range(len(cluster)):\n",
        "    a=[]\n",
        "    for j in range(len(cluster)):\n",
        "      a.append(np.sqrt((file2[cluster[i]][1]-file2[cluster[j]][1])**2+ (file2[cluster[i]][2]-file2[cluster[j]][2])**2))\n",
        "    distance.append(a)\n",
        "  distance=np.array(distance)\n",
        "  return distance"
      ],
      "execution_count": 176,
      "outputs": []
    },
    {
      "cell_type": "code",
      "metadata": {
        "colab": {
          "base_uri": "https://localhost:8080/"
        },
        "id": "iZUHZYSgDYFz",
        "outputId": "a2c499e1-eb22-4545-ca5b-89fd61556e11"
      },
      "source": [
        "from python_tsp.exact import solve_tsp_dynamic_programming\n",
        "sum_optimal=0\n",
        "permuatation_list=[]\n",
        "for i in range(len(cl_final_m)):\n",
        "  permutation, distance= solve_tsp_dynamic_programming(distance_matrix(cl_final_m[i]))\n",
        "  print(distance)\n",
        "  permuatation_list.append(permutation)\n",
        "  sum_optimal=sum_optimal+distance\n",
        "print('optimal cost using k means capacitated clustering',sum_optimal)"
      ],
      "execution_count": 177,
      "outputs": [
        {
          "output_type": "stream",
          "text": [
            "[0, 21, 15, 17, 18]\n",
            "98.25364984192188\n",
            "[0, 5, 6, 7, 8, 9, 10]\n",
            "90.94221857249983\n",
            "[0, 16, 1, 2, 3]\n",
            "138.9798183760054\n",
            "[0, 11, 12, 13]\n",
            "75.54589748030381\n",
            "optimal cost using k means capacitated clustering 403.7215842707309\n"
          ],
          "name": "stdout"
        }
      ]
    },
    {
      "cell_type": "markdown",
      "metadata": {
        "id": "IHWUfERwD46h"
      },
      "source": [
        "$$ \\textbf{MEAN ABSOLUTE PERCENTAGE ERROR} $$"
      ]
    },
    {
      "cell_type": "code",
      "metadata": {
        "colab": {
          "base_uri": "https://localhost:8080/"
        },
        "id": "RddMoHhdDcGn",
        "outputId": "7d64f740-04cf-4ae7-bfaf-14b851ef3f39"
      },
      "source": [
        "optimal_value_21=375\n",
        "percentage_error=(np.absolute(optimal_value_21-sum_optimal)/optimal_value_21)*100\n",
        "print('mean_absolute_percentage_error_21',percentage_error)"
      ],
      "execution_count": 178,
      "outputs": [
        {
          "output_type": "stream",
          "text": [
            "mean_absolute_percentage_error_21 7.65908913886157\n"
          ],
          "name": "stdout"
        }
      ]
    },
    {
      "cell_type": "markdown",
      "metadata": {
        "id": "goclSOqDD8uk"
      },
      "source": [
        "$$ \\textbf{MEAN ABSOLUTE PERCENTAGE ERROR FOR 21 CITIES : 7.67%} $$"
      ]
    },
    {
      "cell_type": "markdown",
      "metadata": {
        "id": "8skTL0R_EJ6G"
      },
      "source": [
        "# FOR 100 CITIES"
      ]
    },
    {
      "cell_type": "code",
      "metadata": {
        "colab": {
          "base_uri": "https://localhost:8080/"
        },
        "id": "6R4eo8reEJny",
        "outputId": "ba8dea59-47b7-4c2e-decc-94e6fb96d08c"
      },
      "source": [
        "file3 = np.loadtxt(\"/content/100_cities_dd.txt\")\n",
        "print(file3)"
      ],
      "execution_count": 179,
      "outputs": [
        {
          "output_type": "stream",
          "text": [
            "[[  1.  35.  35.   0.]\n",
            " [  2.  41.  49.  10.]\n",
            " [  3.  35.  17.   7.]\n",
            " [  4.  55.  45.  13.]\n",
            " [  5.  55.  20.  19.]\n",
            " [  6.  15.  30.  26.]\n",
            " [  7.  25.  30.   3.]\n",
            " [  8.  20.  50.   5.]\n",
            " [  9.  10.  43.   9.]\n",
            " [ 10.  55.  60.  16.]\n",
            " [ 11.  30.  60.  16.]\n",
            " [ 12.  20.  65.  12.]\n",
            " [ 13.  50.  35.  19.]\n",
            " [ 14.  30.  25.  23.]\n",
            " [ 15.  15.  10.  20.]\n",
            " [ 16.  30.   5.   8.]\n",
            " [ 17.  10.  20.  19.]\n",
            " [ 18.   5.  30.   2.]\n",
            " [ 19.  20.  40.  12.]\n",
            " [ 20.  15.  60.  17.]\n",
            " [ 21.  45.  65.   9.]\n",
            " [ 22.  45.  20.  11.]\n",
            " [ 23.  45.  10.  18.]\n",
            " [ 24.  55.   5.  29.]\n",
            " [ 25.  65.  35.   3.]\n",
            " [ 26.  65.  20.   6.]\n",
            " [ 27.  45.  30.  17.]\n",
            " [ 28.  35.  40.  16.]\n",
            " [ 29.  41.  37.  16.]\n",
            " [ 30.  64.  42.   9.]\n",
            " [ 31.  40.  60.  21.]\n",
            " [ 32.  31.  52.  27.]\n",
            " [ 33.  35.  69.  23.]\n",
            " [ 34.  53.  52.  11.]\n",
            " [ 35.  65.  55.  14.]\n",
            " [ 36.  63.  65.   8.]\n",
            " [ 37.   2.  60.   5.]\n",
            " [ 38.  20.  20.   8.]\n",
            " [ 39.   5.   5.  16.]\n",
            " [ 40.  60.  12.  31.]\n",
            " [ 41.  40.  25.   9.]\n",
            " [ 42.  42.   7.   5.]\n",
            " [ 43.  24.  12.   5.]\n",
            " [ 44.  23.   3.   7.]\n",
            " [ 45.  11.  14.  18.]\n",
            " [ 46.   6.  38.  16.]\n",
            " [ 47.   2.  48.   1.]\n",
            " [ 48.   8.  56.  27.]\n",
            " [ 49.  13.  52.  36.]\n",
            " [ 50.   6.  68.  30.]\n",
            " [ 51.  47.  47.  13.]\n",
            " [ 52.  49.  58.  10.]\n",
            " [ 53.  27.  43.   9.]\n",
            " [ 54.  37.  31.  14.]\n",
            " [ 55.  57.  29.  18.]\n",
            " [ 56.  63.  23.   2.]\n",
            " [ 57.  53.  12.   6.]\n",
            " [ 58.  32.  12.   7.]\n",
            " [ 59.  36.  26.  18.]\n",
            " [ 60.  21.  24.  28.]\n",
            " [ 61.  17.  34.   3.]\n",
            " [ 62.  12.  24.  13.]\n",
            " [ 63.  24.  58.  19.]\n",
            " [ 64.  27.  69.  10.]\n",
            " [ 65.  15.  77.   9.]\n",
            " [ 66.  62.  77.  20.]\n",
            " [ 67.  49.  73.  25.]\n",
            " [ 68.  67.   5.  25.]\n",
            " [ 69.  56.  39.  36.]\n",
            " [ 70.  37.  47.   6.]\n",
            " [ 71.  37.  56.   5.]\n",
            " [ 72.  57.  68.  15.]\n",
            " [ 73.  47.  16.  25.]\n",
            " [ 74.  44.  17.   9.]\n",
            " [ 75.  46.  13.   8.]\n",
            " [ 76.  49.  11.  18.]\n",
            " [ 77.  49.  42.  13.]\n",
            " [ 78.  53.  43.  14.]\n",
            " [ 79.  61.  52.   3.]\n",
            " [ 80.  57.  48.  23.]\n",
            " [ 81.  56.  37.   6.]\n",
            " [ 82.  55.  54.  26.]\n",
            " [ 83.  15.  47.  16.]\n",
            " [ 84.  14.  37.  11.]\n",
            " [ 85.  11.  31.   7.]\n",
            " [ 86.  16.  22.  41.]\n",
            " [ 87.   4.  18.  35.]\n",
            " [ 88.  28.  18.  26.]\n",
            " [ 89.  26.  52.   9.]\n",
            " [ 90.  26.  35.  15.]\n",
            " [ 91.  31.  67.   3.]\n",
            " [ 92.  15.  19.   1.]\n",
            " [ 93.  22.  22.   2.]\n",
            " [ 94.  18.  24.  22.]\n",
            " [ 95.  26.  27.  27.]\n",
            " [ 96.  25.  24.  20.]\n",
            " [ 97.  22.  27.  11.]\n",
            " [ 98.  25.  21.  12.]\n",
            " [ 99.  19.  21.  10.]\n",
            " [100.  20.  26.   9.]\n",
            " [101.  18.  18.  17.]]\n"
          ],
          "name": "stdout"
        }
      ]
    },
    {
      "cell_type": "code",
      "metadata": {
        "colab": {
          "base_uri": "https://localhost:8080/"
        },
        "id": "rUlW4aTCDtib",
        "outputId": "61be815d-dac4-4436-b8fa-ec0440fc694f"
      },
      "source": [
        "sum=0\n",
        "for i in range(len(file3)):\n",
        "  sum=sum+file3[i][3]\n",
        "print(sum)\n",
        "cp=112"
      ],
      "execution_count": 180,
      "outputs": [
        {
          "output_type": "stream",
          "text": [
            "1458.0\n"
          ],
          "name": "stdout"
        }
      ]
    },
    {
      "cell_type": "code",
      "metadata": {
        "id": "kxINjg0sG_9P"
      },
      "source": [
        "n_clusters=int(np.ceil(sum/cp))  # taking the ceiling value\n",
        "centroid=[]  # here is the list specifying the centroids\n",
        "# code to select the initial centroid this can be done based on the demands\n",
        "d_sorted= sorted(file3, key=itemgetter(3),reverse=True)\n",
        "for i in range(n_clusters):\n",
        "  centroid.append(d_sorted[i][1:3])"
      ],
      "execution_count": 181,
      "outputs": []
    },
    {
      "cell_type": "code",
      "metadata": {
        "colab": {
          "base_uri": "https://localhost:8080/"
        },
        "id": "aukXyQd2HFaP",
        "outputId": "3d6769d3-021d-4d70-d043-48f36fffc010"
      },
      "source": [
        "centroid"
      ],
      "execution_count": 182,
      "outputs": [
        {
          "output_type": "execute_result",
          "data": {
            "text/plain": [
              "[array([16., 22.]),\n",
              " array([13., 52.]),\n",
              " array([56., 39.]),\n",
              " array([ 4., 18.]),\n",
              " array([60., 12.]),\n",
              " array([ 6., 68.]),\n",
              " array([55.,  5.]),\n",
              " array([21., 24.]),\n",
              " array([31., 52.]),\n",
              " array([ 8., 56.]),\n",
              " array([26., 27.]),\n",
              " array([15., 30.]),\n",
              " array([55., 54.]),\n",
              " array([28., 18.])]"
            ]
          },
          "metadata": {
            "tags": []
          },
          "execution_count": 182
        }
      ]
    },
    {
      "cell_type": "code",
      "metadata": {
        "id": "f8ZNtn7pHMyI"
      },
      "source": [
        "def cluster_formation():\n",
        "  EuclideanDistance=[]\n",
        "  for i in range(n_clusters):\n",
        "    a_1=[]\n",
        "    for j in range(len(file3)):\n",
        "      distance=((file3[j][1]-centroid[i][0])**2+(file3[j][2]-centroid[i][1])**2)**0.5\n",
        "      a_1.append(distance)\n",
        "    EuclideanDistance.append(a_1)\n",
        "  EuclideanDistance=pd.DataFrame(EuclideanDistance)\n",
        "  min_distance_centroid=EuclideanDistance.idxmin()\n",
        "  min_distance_centroid=np.array(min_distance_centroid)\n",
        "  min_distance_centroid\n",
        "  t=[]\n",
        "  cl=[]\n",
        "  for k in range(len(file3)):\n",
        "      A=[]\n",
        "      B=[]\n",
        "      C=[]\n",
        "      D=[]\n",
        "      E=[]\n",
        "      F=[]\n",
        "      G=[]\n",
        "      H=[]\n",
        "      I=[]\n",
        "      J=[]\n",
        "      K=[]\n",
        "      L=[]\n",
        "      M=[]\n",
        "      N=[]\n",
        "      t.append([k,min_distance_centroid[k]])\n",
        "  for k in range(len(file3)):\n",
        "      if t[k][1]==0:\n",
        "        A.append(t[k][0])\n",
        "      elif t[k][1]==1:\n",
        "        B.append(t[k][0])\n",
        "      elif t[k][1]==2:\n",
        "        C.append(t[k][0])\n",
        "      elif t[k][1]==3:\n",
        "        D.append(t[k][0])\n",
        "      elif t[k][1]==4:\n",
        "        E.append(t[k][0])\n",
        "      elif t[k][1]==5:\n",
        "        F.append(t[k][0])\n",
        "      elif t[k][1]==6:\n",
        "        G.append(t[k][0])\n",
        "      elif t[k][1]==7:\n",
        "        H.append(t[k][0])\n",
        "      elif t[k][1]==8:\n",
        "        I.append(t[k][0])\n",
        "      elif t[k][1]==9:\n",
        "        J.append(t[k][0])\n",
        "      elif t[k][1]==10:\n",
        "        K.append(t[k][0])\n",
        "      elif t[k][1]==11:\n",
        "        L.append(t[k][0])\n",
        "      elif t[k][1]==12:\n",
        "        M.append(t[k][0])\n",
        "      else :\n",
        "        N.append(t[k][0])\n",
        "  cl.append(A)\n",
        "  cl.append(B)\n",
        "  cl.append(C)\n",
        "  cl.append(D)\n",
        "  cl.append(E)\n",
        "  cl.append(F)\n",
        "  cl.append(G)\n",
        "  cl.append(H)\n",
        "  cl.append(I)\n",
        "  cl.append(J)\n",
        "  cl.append(K)\n",
        "  cl.append(L)\n",
        "  cl.append(M)\n",
        "  cl.append(N)\n",
        "  centroid_n=[]\n",
        "  for j in cl:\n",
        "    r_x=0\n",
        "    r_y=0\n",
        "    for i in j:\n",
        "      r_x=r_x+file3[i][1]\n",
        "      r_y=r_y+file3[i][2]\n",
        "    a_0=((r_x/len(j)),(r_y/len(j)))\n",
        "    centroid_n.append(a_0)\n",
        "  # print(centroid_n)\n",
        "  return centroid_n,cl"
      ],
      "execution_count": 183,
      "outputs": []
    },
    {
      "cell_type": "code",
      "metadata": {
        "id": "x4R8q4AOHV3p"
      },
      "source": [
        "#checking for whether the given cluster is possible or\n",
        "def func(a):\n",
        "  sum_d=0\n",
        "  for i in range(len(a)):\n",
        "    sum_d=sum_d+file3[a[i]][3]\n",
        "  return sum_d\n",
        "  "
      ],
      "execution_count": 184,
      "outputs": []
    },
    {
      "cell_type": "code",
      "metadata": {
        "colab": {
          "base_uri": "https://localhost:8080/"
        },
        "id": "Vfh3qi2vHaTW",
        "outputId": "e79f4117-4d10-4f2d-915f-36e0d495c0ae"
      },
      "source": [
        "for i in range(len(centroid)):\n",
        "  centroid_final,cl_final=cluster_formation()\n",
        "  centroid.clear()\n",
        "  for y in range(len(centroid_final)):\n",
        "    centroid.append(centroid_final[y])\n",
        "  print(centroid)"
      ],
      "execution_count": 185,
      "outputs": [
        {
          "output_type": "stream",
          "text": [
            "[(15.375, 19.75), (14.5, 48.0), (53.72727272727273, 37.63636363636363), (6.666666666666667, 12.333333333333334), (56.875, 16.0), (13.666666666666666, 70.0), (47.4, 9.2), (21.0, 23.8), (32.38461538461539, 55.53846153846154), (6.75, 56.0), (30.0, 29.125), (12.571428571428571, 34.285714285714285), (55.23076923076923, 59.53846153846154), (31.22222222222222, 14.444444444444445)]\n",
            "[(14.2, 20.6), (17.0, 47.0), (53.46153846153846, 39.15384615384615), (8.75, 11.75), (60.5, 15.333333333333334), (17.0, 69.75), (46.625, 12.375), (21.333333333333332, 23.22222222222222), (33.2, 57.0), (6.75, 56.0), (32.22222222222222, 30.444444444444443), (12.571428571428571, 34.285714285714285), (55.81818181818182, 61.72727272727273), (28.666666666666668, 11.166666666666666)]\n",
            "[(14.2, 20.6), (17.5, 45.833333333333336), (54.5, 39.333333333333336), (8.75, 11.75), (62.0, 16.0), (17.0, 69.75), (47.333333333333336, 12.333333333333334), (21.8, 23.6), (33.2, 57.0), (6.75, 56.0), (33.888888888888886, 31.555555555555557), (11.333333333333334, 33.333333333333336), (55.81818181818182, 61.72727272727273), (28.666666666666668, 11.166666666666666)]\n",
            "[(14.2, 20.6), (18.4, 44.6), (55.36363636363637, 40.18181818181818), (8.75, 11.75), (62.0, 16.0), (17.0, 69.75), (47.333333333333336, 12.333333333333334), (22.09090909090909, 24.181818181818183), (33.2, 57.0), (8.0, 55.2), (36.111111111111114, 31.555555555555557), (11.333333333333334, 33.333333333333336), (55.81818181818182, 61.72727272727273), (28.666666666666668, 11.166666666666666)]\n",
            "[(14.2, 20.6), (18.4, 44.6), (55.36363636363637, 40.18181818181818), (8.75, 11.75), (62.0, 16.0), (17.0, 69.75), (47.333333333333336, 12.333333333333334), (22.75, 24.25), (33.2, 57.0), (8.0, 55.2), (36.875, 32.375), (11.333333333333334, 33.333333333333336), (55.81818181818182, 61.72727272727273), (28.666666666666668, 11.166666666666666)]\n",
            "[(15.0, 20.666666666666668), (18.4, 44.6), (55.36363636363637, 40.18181818181818), (8.75, 11.75), (62.0, 16.0), (17.0, 69.75), (47.333333333333336, 12.333333333333334), (23.09090909090909, 24.545454545454547), (33.2, 57.0), (8.0, 55.2), (36.875, 32.375), (11.333333333333334, 33.333333333333336), (55.81818181818182, 61.72727272727273), (28.666666666666668, 11.166666666666666)]\n",
            "[(16.0, 21.0), (18.4, 44.6), (55.36363636363637, 40.18181818181818), (8.75, 11.75), (62.0, 16.0), (17.0, 69.75), (47.333333333333336, 12.333333333333334), (24.2, 26.1), (33.2, 57.0), (8.0, 55.2), (38.42857142857143, 32.0), (11.333333333333334, 33.333333333333336), (55.81818181818182, 61.72727272727273), (28.666666666666668, 11.166666666666666)]\n",
            "[(16.0, 21.0), (18.4, 44.6), (55.36363636363637, 40.18181818181818), (8.75, 11.75), (62.0, 16.0), (17.0, 69.75), (47.333333333333336, 12.333333333333334), (24.2, 26.1), (33.2, 57.0), (8.0, 55.2), (38.42857142857143, 32.0), (11.333333333333334, 33.333333333333336), (55.81818181818182, 61.72727272727273), (28.666666666666668, 11.166666666666666)]\n",
            "[(16.0, 21.0), (18.4, 44.6), (55.36363636363637, 40.18181818181818), (8.75, 11.75), (62.0, 16.0), (17.0, 69.75), (47.333333333333336, 12.333333333333334), (24.2, 26.1), (33.2, 57.0), (8.0, 55.2), (38.42857142857143, 32.0), (11.333333333333334, 33.333333333333336), (55.81818181818182, 61.72727272727273), (28.666666666666668, 11.166666666666666)]\n",
            "[(16.0, 21.0), (18.4, 44.6), (55.36363636363637, 40.18181818181818), (8.75, 11.75), (62.0, 16.0), (17.0, 69.75), (47.333333333333336, 12.333333333333334), (24.2, 26.1), (33.2, 57.0), (8.0, 55.2), (38.42857142857143, 32.0), (11.333333333333334, 33.333333333333336), (55.81818181818182, 61.72727272727273), (28.666666666666668, 11.166666666666666)]\n",
            "[(16.0, 21.0), (18.4, 44.6), (55.36363636363637, 40.18181818181818), (8.75, 11.75), (62.0, 16.0), (17.0, 69.75), (47.333333333333336, 12.333333333333334), (24.2, 26.1), (33.2, 57.0), (8.0, 55.2), (38.42857142857143, 32.0), (11.333333333333334, 33.333333333333336), (55.81818181818182, 61.72727272727273), (28.666666666666668, 11.166666666666666)]\n",
            "[(16.0, 21.0), (18.4, 44.6), (55.36363636363637, 40.18181818181818), (8.75, 11.75), (62.0, 16.0), (17.0, 69.75), (47.333333333333336, 12.333333333333334), (24.2, 26.1), (33.2, 57.0), (8.0, 55.2), (38.42857142857143, 32.0), (11.333333333333334, 33.333333333333336), (55.81818181818182, 61.72727272727273), (28.666666666666668, 11.166666666666666)]\n",
            "[(16.0, 21.0), (18.4, 44.6), (55.36363636363637, 40.18181818181818), (8.75, 11.75), (62.0, 16.0), (17.0, 69.75), (47.333333333333336, 12.333333333333334), (24.2, 26.1), (33.2, 57.0), (8.0, 55.2), (38.42857142857143, 32.0), (11.333333333333334, 33.333333333333336), (55.81818181818182, 61.72727272727273), (28.666666666666668, 11.166666666666666)]\n",
            "[(16.0, 21.0), (18.4, 44.6), (55.36363636363637, 40.18181818181818), (8.75, 11.75), (62.0, 16.0), (17.0, 69.75), (47.333333333333336, 12.333333333333334), (24.2, 26.1), (33.2, 57.0), (8.0, 55.2), (38.42857142857143, 32.0), (11.333333333333334, 33.333333333333336), (55.81818181818182, 61.72727272727273), (28.666666666666668, 11.166666666666666)]\n"
          ],
          "name": "stdout"
        }
      ]
    },
    {
      "cell_type": "code",
      "metadata": {
        "colab": {
          "base_uri": "https://localhost:8080/",
          "height": 429
        },
        "id": "4CRdAodzHeip",
        "outputId": "54e23425-5eaf-49f3-e46f-eb84f786d8fb"
      },
      "source": [
        "import matplotlib.pyplot as plt\n",
        "from matplotlib.pyplot import figure\n",
        "figure(figsize=(15,7))\n",
        "plt.scatter([file3[r][1] for r in cl_final[0]],[file3[e][2] for e in cl_final[0]])\n",
        "plt.scatter([file3[r][1] for r in cl_final[1]],[file3[e][2] for e in cl_final[1]])\n",
        "plt.scatter([file3[r][1] for r in cl_final[2]],[file3[e][2] for e in cl_final[2]])\n",
        "plt.scatter([file3[r][1] for r in cl_final[3]],[file3[e][2] for e in cl_final[3]])\n",
        "plt.scatter([file3[r][1] for r in cl_final[4]],[file3[e][2] for e in cl_final[4]])\n",
        "plt.scatter([file3[r][1] for r in cl_final[5]],[file3[e][2] for e in cl_final[5]])\n",
        "plt.scatter([file3[r][1] for r in cl_final[6]],[file3[e][2] for e in cl_final[6]])\n",
        "plt.scatter([file3[r][1] for r in cl_final[7]],[file3[e][2] for e in cl_final[7]])\n",
        "plt.scatter([file3[r][1] for r in cl_final[8]],[file3[e][2] for e in cl_final[8]])\n",
        "plt.scatter([file3[r][1] for r in cl_final[9]],[file3[e][2] for e in cl_final[9]])\n",
        "plt.scatter([file3[r][1] for r in cl_final[10]],[file3[e][2] for e in cl_final[10]])\n",
        "plt.scatter([file3[r][1] for r in cl_final[11]],[file3[e][2] for e in cl_final[11]])\n",
        "plt.scatter([file3[r][1] for r in cl_final[12]],[file3[e][2] for e in cl_final[12]])\n",
        "plt.scatter([file3[r][1] for r in cl_final[13]],[file3[e][2] for e in cl_final[13]])\n",
        "for i in range(len(centroid)):\n",
        "  plt.scatter(centroid[i][0],centroid[i][1],s=300)\n",
        "plt.legend(['cluster1','cluster2','cluster3','cluster4','cluster5','cluster6','cluster7','cluster8','cluster9','cluster10','cluster11','cluster12','cluster13','cluster14'])\n",
        "plt.show()"
      ],
      "execution_count": 186,
      "outputs": [
        {
          "output_type": "display_data",
          "data": {
            "image/png": "[encoded data removed]",
            "text/plain": [
              "<Figure size 1080x504 with 1 Axes>"
            ]
          },
          "metadata": {
            "tags": [],
            "needs_background": "light"
          }
        }
      ]
    },
    {
      "cell_type": "code",
      "metadata": {
        "colab": {
          "base_uri": "https://localhost:8080/"
        },
        "id": "mSJXWQLTLlMR",
        "outputId": "d3247249-5b28-4a82-b726-012e1931396a"
      },
      "source": [
        "for i in range(len(cl_final)):\n",
        "  print(cl_final[i])"
      ],
      "execution_count": 187,
      "outputs": [
        {
          "output_type": "stream",
          "text": [
            "[16, 37, 61, 85, 91, 93, 98, 100]\n",
            "[7, 8, 18, 52, 82]\n",
            "[3, 12, 24, 29, 50, 54, 68, 76, 77, 79, 80]\n",
            "[14, 38, 44, 86]\n",
            "[4, 25, 39, 55, 67]\n",
            "[11, 49, 63, 64]\n",
            "[21, 22, 23, 41, 56, 72, 73, 74, 75]\n",
            "[6, 13, 59, 89, 92, 94, 95, 96, 97, 99]\n",
            "[1, 10, 30, 31, 32, 62, 69, 70, 88, 90]\n",
            "[19, 36, 46, 47, 48]\n",
            "[0, 26, 27, 28, 40, 53, 58]\n",
            "[5, 17, 45, 60, 83, 84]\n",
            "[9, 20, 33, 34, 35, 51, 65, 66, 71, 78, 81]\n",
            "[2, 15, 42, 43, 57, 87]\n"
          ],
          "name": "stdout"
        }
      ]
    },
    {
      "cell_type": "code",
      "metadata": {
        "id": "S2GU1FgQNFWc"
      },
      "source": [
        "def capacity_requirement(cl_final, cp):\n",
        "  for i in range(len(cl_final)-1):\n",
        "    # while func(cl_final[i])>6000:\n",
        "    if func(cl_final[i])<=cp:\n",
        "      # print('cluster',cl_final[i],'is the',i,'cluster')\n",
        "      None\n",
        "    else :\n",
        "      j=0\n",
        "      while func(cl_final[i])>cp:\n",
        "        # print(i,j)\n",
        "        a=cl_final[i][j]\n",
        "        cl_final[i].remove(a)\n",
        "        cl_final[i+1].append(a)\n",
        "        # print(a)\n",
        "        # print(func(cl_final[i]))\n",
        "        a=0\n",
        "      # print('cluster',cl_final[i],'is the',i,'cluster')\n",
        "  if func(cl_final[len(cl_final)-1])<=cp:\n",
        "      # print('cluster',cl_final[len(cl_final)-1],'is the',(len(cl_final)-1),'cluster')\n",
        "      None\n",
        "  else:\n",
        "    j=0\n",
        "    while func(cl_final[len(cl_final)-1])>cp:\n",
        "      a=cl_final[len(cl_final)-1][j]\n",
        "      cl_final[len(cl_final)-1].remove(a)\n",
        "      cl_final[0].append(a)\n",
        "      a=0\n",
        "    # print('cluster',cl_final[len(cl_final)-1],'is the',(len(cl_final)-1),'cluster')\n",
        "    print(cl_final)\n",
        "  return cl_final"
      ],
      "execution_count": 188,
      "outputs": []
    },
    {
      "cell_type": "code",
      "metadata": {
        "colab": {
          "base_uri": "https://localhost:8080/"
        },
        "id": "qRdQeTQUNMZj",
        "outputId": "83e76fc0-0120-4c15-c0fa-e1af7aa4812f"
      },
      "source": [
        "cl_final_m=capacity_requirement(cl_final,cp)"
      ],
      "execution_count": 189,
      "outputs": [
        {
          "output_type": "stream",
          "text": [
            "[[37, 61, 85, 91, 93, 98, 100, 2, 15, 42, 43, 57, 87], [7, 8, 18, 52, 82, 16], [54, 68, 76, 77, 79, 80], [44, 86, 3, 12, 24, 29, 50], [25, 39, 55, 67, 14, 38], [11, 49, 63, 64, 4], [23, 41, 56, 72, 73, 74, 75], [92, 94, 95, 96, 97, 99, 21, 22], [62, 69, 70, 88, 90, 6, 13, 59, 89], [1, 10, 30, 31, 32], [58, 19, 36, 46, 47, 48], [17, 45, 60, 83, 84, 0, 26, 27, 28, 40, 53], [66, 71, 78, 81, 5], [9, 20, 33, 34, 35, 51, 65]]\n"
          ],
          "name": "stdout"
        }
      ]
    },
    {
      "cell_type": "code",
      "metadata": {
        "colab": {
          "base_uri": "https://localhost:8080/"
        },
        "id": "Rm2ImQ-pNWEE",
        "outputId": "1f66fedb-4a57-4a30-c88e-c14a2a2652e6"
      },
      "source": [
        "while func(cl_final_m[0])>cp:\n",
        "  cl_final=capacity_requirement(cl_final,cp)"
      ],
      "execution_count": 190,
      "outputs": [
        {
          "output_type": "stream",
          "text": [
            "[[91, 93, 98, 100, 2, 15, 42, 43, 57, 87, 9, 20, 33, 34], [52, 82, 16, 37, 61, 85], [76, 77, 79, 80, 7, 8, 18], [3, 12, 24, 29, 50, 54, 68], [14, 38, 44, 86], [63, 64, 4, 25, 39, 55, 67], [56, 72, 73, 74, 75, 11, 49], [96, 97, 99, 21, 22, 23, 41], [59, 89, 92, 94, 95], [32, 62, 69, 70, 88, 90, 6, 13], [48, 1, 10, 30, 31], [28, 40, 53, 58, 19, 36, 46, 47], [5, 17, 45, 60, 83, 84, 0, 26, 27], [35, 51, 65, 66, 71, 78, 81]]\n"
          ],
          "name": "stdout"
        }
      ]
    },
    {
      "cell_type": "code",
      "metadata": {
        "colab": {
          "base_uri": "https://localhost:8080/",
          "height": 429
        },
        "id": "Kvl_RjyqNaP7",
        "outputId": "6d84c90b-d1b5-4af2-8bc4-22fcc9940a48"
      },
      "source": [
        "import matplotlib.pyplot as plt\n",
        "from matplotlib.pyplot import figure\n",
        "figure(figsize=(15,7))\n",
        "plt.scatter([file3[r][1] for r in cl_final[0]],[file3[e][2] for e in cl_final[0]])\n",
        "plt.scatter([file3[r][1] for r in cl_final[1]],[file3[e][2] for e in cl_final[1]])\n",
        "plt.scatter([file3[r][1] for r in cl_final[2]],[file3[e][2] for e in cl_final[2]])\n",
        "plt.scatter([file3[r][1] for r in cl_final[3]],[file3[e][2] for e in cl_final[3]])\n",
        "plt.scatter([file3[r][1] for r in cl_final[4]],[file3[e][2] for e in cl_final[4]])\n",
        "plt.scatter([file3[r][1] for r in cl_final[5]],[file3[e][2] for e in cl_final[5]])\n",
        "plt.scatter([file3[r][1] for r in cl_final[6]],[file3[e][2] for e in cl_final[6]])\n",
        "plt.scatter([file3[r][1] for r in cl_final[7]],[file3[e][2] for e in cl_final[7]])\n",
        "plt.scatter([file3[r][1] for r in cl_final[8]],[file3[e][2] for e in cl_final[8]])\n",
        "plt.scatter([file3[r][1] for r in cl_final[9]],[file3[e][2] for e in cl_final[9]])\n",
        "plt.scatter([file3[r][1] for r in cl_final[10]],[file3[e][2] for e in cl_final[10]])\n",
        "plt.scatter([file3[r][1] for r in cl_final[11]],[file3[e][2] for e in cl_final[11]])\n",
        "plt.scatter([file3[r][1] for r in cl_final[12]],[file3[e][2] for e in cl_final[12]])\n",
        "plt.scatter([file3[r][1] for r in cl_final[13]],[file3[e][2] for e in cl_final[13]])\n",
        "for i in range(len(centroid)):\n",
        "  plt.scatter(centroid[i][0],centroid[i][1],s=300)\n",
        "plt.legend(['cluster1','cluster2','cluster3','cluster4','cluster5','cluster6','cluster7','cluster8','cluster9','cluster10','cluster11','cluster12','cluster13','cluster14'])\n",
        "plt.show()"
      ],
      "execution_count": 191,
      "outputs": [
        {
          "output_type": "display_data",
          "data": {
            "image/png": "[encoded data removed]",
            "text/plain": [
              "<Figure size 1080x504 with 1 Axes>"
            ]
          },
          "metadata": {
            "tags": [],
            "needs_background": "light"
          }
        }
      ]
    },
    {
      "cell_type": "code",
      "metadata": {
        "id": "KW9gAVnENoGI"
      },
      "source": [
        "for i in range(len(cl_final)):\n",
        "  for j in range(len(cl_final[i])):\n",
        "    if cl_final[i][j]==0:\n",
        "      cl_final[i].remove(cl_final[i][j])\n",
        "      break"
      ],
      "execution_count": 192,
      "outputs": []
    },
    {
      "cell_type": "code",
      "metadata": {
        "id": "pN9cSUqiN5Y4"
      },
      "source": [
        "for i in range(len(cl_final)):\n",
        "  cl_final[i][0]=0"
      ],
      "execution_count": 193,
      "outputs": []
    },
    {
      "cell_type": "code",
      "metadata": {
        "colab": {
          "base_uri": "https://localhost:8080/"
        },
        "id": "WntP_bSwNuGN",
        "outputId": "b8a12968-e0ac-43cd-c7fa-68e43e8fd7ef"
      },
      "source": [
        "cl_final"
      ],
      "execution_count": 194,
      "outputs": [
        {
          "output_type": "execute_result",
          "data": {
            "text/plain": [
              "[[0, 15, 42, 43, 57, 87, 9, 20, 33, 34],\n",
              " [0, 61, 85, 91, 93, 98, 100],\n",
              " [0, 80, 7, 8, 18, 52, 82, 16],\n",
              " [0, 29, 50, 54, 68, 76, 77],\n",
              " [0, 44, 86, 3, 12],\n",
              " [0, 4, 25, 39, 55, 67, 14],\n",
              " [0, 73, 74, 75, 11, 49, 63],\n",
              " [0, 97, 99, 21, 22, 23, 41, 56],\n",
              " [0, 89, 92, 94, 95],\n",
              " [0, 62, 69, 70, 88, 90, 6, 13],\n",
              " [0, 1, 10, 30, 31],\n",
              " [0, 40, 53, 58, 19, 36, 46, 47],\n",
              " [0, 17, 45, 60, 83, 84, 26, 27],\n",
              " [0, 51, 65, 66, 71, 78, 81]]"
            ]
          },
          "metadata": {
            "tags": []
          },
          "execution_count": 194
        }
      ]
    },
    {
      "cell_type": "code",
      "metadata": {
        "id": "wmAHG1HEN0Ac"
      },
      "source": [
        "# developing the distance matrix func\n",
        "def distance_matrix(cluster):\n",
        "  print(cluster)\n",
        "  distance=[]\n",
        "  for i in range(len(cluster)):\n",
        "    a=[]\n",
        "    for j in range(len(cluster)):\n",
        "      a.append(np.sqrt((file3[cluster[i]][1]-file3[cluster[j]][1])**2+ (file3[cluster[i]][2]-file3[cluster[j]][2])**2))\n",
        "    distance.append(a)\n",
        "  distance=np.array(distance)\n",
        "  return distance"
      ],
      "execution_count": 195,
      "outputs": []
    },
    {
      "cell_type": "code",
      "metadata": {
        "colab": {
          "base_uri": "https://localhost:8080/"
        },
        "id": "J4ZzUwdoOE9k",
        "outputId": "750a4922-29fb-4c47-81de-f71aa8a3e7a6"
      },
      "source": [
        "from python_tsp.exact import solve_tsp_dynamic_programming\n",
        "sum_optimal=0\n",
        "permuatation_list=[]\n",
        "for i in range(len(cl_final_m)):\n",
        "  permutation, distance= solve_tsp_dynamic_programming(distance_matrix(cl_final_m[i]))\n",
        "  print(distance)\n",
        "  permuatation_list.append(permutation)\n",
        "  sum_optimal=sum_optimal+distance\n",
        "print('optimal cost using k means capacitated clustering',sum_optimal)"
      ],
      "execution_count": 196,
      "outputs": [
        {
          "output_type": "stream",
          "text": [
            "[0, 15, 42, 43, 57, 87, 9, 20, 33, 34]\n",
            "160.7416850243174\n",
            "[0, 61, 85, 91, 93, 98, 100]\n",
            "60.96481865171371\n",
            "[0, 80, 7, 8, 18, 52, 82, 16]\n",
            "132.71381761201923\n",
            "[0, 29, 50, 54, 68, 76, 77]\n",
            "77.59116848876299\n",
            "[0, 44, 86, 3, 12]\n",
            "121.25308565082298\n",
            "[0, 4, 25, 39, 55, 67, 14]\n",
            "139.24183961319983\n",
            "[0, 73, 74, 75, 11, 49, 63]\n",
            "156.54639278959746\n",
            "[0, 97, 99, 21, 22, 23, 41, 56]\n",
            "98.63119438215006\n",
            "[0, 89, 92, 94, 95]\n",
            "41.41089402316011\n",
            "[0, 62, 69, 70, 88, 90, 6, 13]\n",
            "91.6959219629759\n",
            "[0, 1, 10, 30, 31]\n",
            "61.80341417378661\n",
            "[0, 40, 53, 58, 19, 36, 46, 47]\n",
            "115.08934046214054\n",
            "[0, 17, 45, 60, 83, 84, 26, 27]\n",
            "93.47891728354095\n",
            "[0, 51, 65, 66, 71, 78, 81]\n",
            "116.22613095646982\n",
            "optimal cost using k means capacitated clustering 1467.388621074658\n"
          ],
          "name": "stdout"
        }
      ]
    },
    {
      "cell_type": "markdown",
      "metadata": {
        "id": "1HvDJASoO2X8"
      },
      "source": [
        "$$ \\textbf{MEAN ABSOLUTE PERCENTAGE ERROR} $$"
      ]
    },
    {
      "cell_type": "code",
      "metadata": {
        "colab": {
          "base_uri": "https://localhost:8080/"
        },
        "id": "t5nbp2t_OKqh",
        "outputId": "7b44165f-976e-4e75-e347-45f3b4bdd3fb"
      },
      "source": [
        "optimal_value_100=1070\n",
        "percentage_error=(np.absolute(optimal_value_100-sum_optimal)/optimal_value_100)*100\n",
        "print('mean_absolute_percentage_error_21',percentage_error)"
      ],
      "execution_count": 197,
      "outputs": [
        {
          "output_type": "stream",
          "text": [
            "mean_absolute_percentage_error_21 37.13912346492131\n"
          ],
          "name": "stdout"
        }
      ]
    },
    {
      "cell_type": "markdown",
      "metadata": {
        "id": "8wCF6N4OO3kO"
      },
      "source": [
        "$$ \\textbf{MEAN ABSOLUTE PERCENTAGE ERROR FOR 21 CITIES : 37.139%} $$"
      ]
    },
    {
      "cell_type": "code",
      "metadata": {
        "colab": {
          "base_uri": "https://localhost:8080/",
          "height": 313
        },
        "id": "zuyU-xmGOaCd",
        "outputId": "a6d830a6-d558-47fc-9516-9612b6ee1775"
      },
      "source": [
        "plt.plot([21,32,100],[7.67,10.35,37.14])\n",
        "plt.xlabel(\"no of ciies\")\n",
        "plt.ylabel(\"deviation from the true\")\n",
        "plt.title(\"error vs no of cities\")"
      ],
      "execution_count": 198,
      "outputs": [
        {
          "output_type": "execute_result",
          "data": {
            "text/plain": [
              "Text(0.5, 1.0, 'error vs no of cities')"
            ]
          },
          "metadata": {
            "tags": []
          },
          "execution_count": 198
        },
        {
          "output_type": "display_data",
          "data": {
            "image/png": "[encoded data removed]",
            "text/plain": [
              "<Figure size 432x288 with 1 Axes>"
            ]
          },
          "metadata": {
            "tags": [],
            "needs_background": "light"
          }
        }
      ]
    },
    {
      "cell_type": "code",
      "metadata": {
        "id": "JriilcfuPRyy"
      },
      "source": [
        ""
      ],
      "execution_count": 198,
      "outputs": []
    }
  ]
}